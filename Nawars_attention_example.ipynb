{
 "cells": [
  {
   "cell_type": "markdown",
   "id": "a0bde0cc",
   "metadata": {},
   "source": [
    "# Pytorch\n",
    "\n",
    "* Python wrapper and framework for scinetific computing based on torch\n",
    "* Open source and supported by facebook\n",
    "* Alternative to TensorFlow and/or Keras\n",
    "* Comparison to TensorFlow:\n",
    "  * https://www.assemblyai.com/blog/pytorch-vs-tensorflow-in-2022/\n",
    "  * https://trends.google.com/trends/explore?date=today%205-y&geo=US&q=tensorflow,pytorch\n",
    "  * https://pytorch.org/get-started/locally/"
   ]
  },
  {
   "cell_type": "code",
   "execution_count": 1,
   "id": "95edd48e",
   "metadata": {},
   "outputs": [],
   "source": [
    "import torch               as tr\n",
    "import torch.nn            as nn\n",
    "import torch.nn.functional as F\n",
    "from   torch.nn         import Linear, Embedding\n",
    "from   torch.nn         import LSTM, GRU, Transformer\n",
    "from   torch.nn import TransformerEncoderLayer,  TransformerDecoderLayer\n",
    "from   torch.nn import TransformerEncoder,  TransformerDecoder, LayerNorm\n",
    "from   torch.utils.data import DataLoader, Dataset\n",
    "\n",
    "import matplotlib.pyplot as plt\n",
    "\n",
    "import math\n",
    "\n",
    "lr = 0.001\n",
    "bs = 16\n",
    "device = \"cpu\""
   ]
  },
  {
   "cell_type": "markdown",
   "id": "88110069",
   "metadata": {},
   "source": [
    "## Basic Torch\n",
    "\n",
    "* We build a basic linear model\n",
    "* We use autograd (part of pytorch)"
   ]
  },
  {
   "cell_type": "code",
   "execution_count": 2,
   "id": "b8166fa7",
   "metadata": {},
   "outputs": [],
   "source": [
    "# Fake data\n",
    "x = tr.randn(1000)\n",
    "y = 10 * x + 5"
   ]
  },
  {
   "cell_type": "code",
   "execution_count": 3,
   "id": "84c03616",
   "metadata": {},
   "outputs": [],
   "source": [
    "# Initialise params\n",
    "a = tr.tensor(0., requires_grad=True)\n",
    "b = tr.tensor(0., requires_grad=True)"
   ]
  },
  {
   "cell_type": "code",
   "execution_count": 4,
   "id": "a506ba13",
   "metadata": {},
   "outputs": [
    {
     "data": {
      "text/plain": [
       "tensor(123.9047, grad_fn=<MeanBackward0>)"
      ]
     },
     "execution_count": 4,
     "metadata": {},
     "output_type": "execute_result"
    }
   ],
   "source": [
    "# Calc output and loss\n",
    "o = x * a + b # Model\n",
    "l = (y - o).pow(2).mean()\n",
    "l"
   ]
  },
  {
   "cell_type": "markdown",
   "id": "bcec9d73",
   "metadata": {},
   "source": [
    "### Now let's iterate and use backpropagation"
   ]
  },
  {
   "cell_type": "code",
   "execution_count": 5,
   "id": "b11bd99c",
   "metadata": {},
   "outputs": [
    {
     "name": "stdout",
     "output_type": "stream",
     "text": [
      "params: 0.020333779975771904 0.008894313126802444 loss: 123.90465545654297\n",
      "params: 1.8576717376708984 0.8240893483161926 loss: 83.24549102783203\n",
      "params: 3.355804443359375 1.5080108642578125 loss: 55.95270538330078\n",
      "params: 4.5775275230407715 2.0814075469970703 loss: 37.62394714355469\n",
      "params: 5.573982238769531 2.561831474304199 loss: 25.309629440307617\n",
      "params: 6.386819362640381 2.964111089706421 loss: 17.032608032226562\n",
      "params: 7.049968719482422 3.3007633686065674 loss: 11.466886520385742\n",
      "params: 7.591072082519531 3.582339286804199 loss: 7.722801685333252\n",
      "params: 8.032655715942383 3.8177287578582764 loss: 5.203111171722412\n",
      "params: 8.39306926727295 4.01440954208374 loss: 3.506774425506592\n"
     ]
    }
   ],
   "source": [
    "for i in range(1000):\n",
    "    # Calc output\n",
    "    o = x * a + b # Forward pass\n",
    "    \n",
    "    # Calc loss\n",
    "    l = (y - o).pow(2).mean()\n",
    "    \n",
    "    # Calc gradients\n",
    "    l.backward()\n",
    "\n",
    "    # Manually update weights using gradient descent. Wrap in torch.no_grad()\n",
    "    # because weights have requires_grad=True, but we don't need to track this\n",
    "    # in autograd.\n",
    "    with tr.no_grad():\n",
    "        a -= lr * a.grad\n",
    "        b -= lr * b.grad\n",
    "\n",
    "        # Manually zero the gradients after updating weights\n",
    "        a.grad = None\n",
    "        b.grad = None\n",
    "\n",
    "    if i % 100 == 0:\n",
    "        print(\"params:\", a.item(), b.item(), \"loss:\", l.item())"
   ]
  },
  {
   "cell_type": "markdown",
   "id": "a60e13e8",
   "metadata": {},
   "source": [
    "## Simplify further\n",
    "\n",
    "* Using optim submodule\n",
    "* And then prebuilt losses"
   ]
  },
  {
   "cell_type": "code",
   "execution_count": 6,
   "id": "9549ecdf",
   "metadata": {},
   "outputs": [],
   "source": [
    "# Initialise params\n",
    "a = tr.tensor(0., requires_grad=True)\n",
    "b = tr.tensor(0., requires_grad=True)"
   ]
  },
  {
   "cell_type": "code",
   "execution_count": 7,
   "id": "1044f5a1",
   "metadata": {},
   "outputs": [],
   "source": [
    "loss_fn = nn.MSELoss(reduction=\"mean\")"
   ]
  },
  {
   "cell_type": "code",
   "execution_count": 8,
   "id": "e9be3998",
   "metadata": {},
   "outputs": [
    {
     "name": "stdout",
     "output_type": "stream",
     "text": [
      "params: 0.020333779975771904 0.008894313126802444 loss: 123.90465545654297\n",
      "params: 1.8576717376708984 0.8240893483161926 loss: 83.24549102783203\n",
      "params: 3.355804443359375 1.5080108642578125 loss: 55.95270538330078\n",
      "params: 4.5775275230407715 2.0814075469970703 loss: 37.62394714355469\n",
      "params: 5.573982238769531 2.561831474304199 loss: 25.309629440307617\n",
      "params: 6.386819362640381 2.964111089706421 loss: 17.032608032226562\n",
      "params: 7.049968719482422 3.3007633686065674 loss: 11.466886520385742\n",
      "params: 7.591072082519531 3.582339286804199 loss: 7.722801685333252\n",
      "params: 8.032655715942383 3.8177287578582764 loss: 5.203111171722412\n",
      "params: 8.39306926727295 4.01440954208374 loss: 3.506774425506592\n"
     ]
    }
   ],
   "source": [
    "for i in range(1000):\n",
    "    # Calc output\n",
    "    o = x * a + b\n",
    "    \n",
    "    # Calc loss\n",
    "    l = loss_fn(y, o)\n",
    "    \n",
    "    # Calc gradient\n",
    "    l.backward()\n",
    "\n",
    "    # Manually update weights using gradient descent. Wrap in torch.no_grad()\n",
    "    # because weights have requires_grad=True, but we don't need to track this\n",
    "    # in autograd.\n",
    "    with tr.no_grad():\n",
    "        a -= lr * a.grad\n",
    "        b -= lr * b.grad\n",
    "\n",
    "        # Manually zero the gradients after updating weights\n",
    "        a.grad = None\n",
    "        b.grad = None\n",
    "\n",
    "    if i % 100 == 0:\n",
    "        print(\"params:\", a.item(), b.item(), \"loss:\", l.item())"
   ]
  },
  {
   "cell_type": "code",
   "execution_count": 9,
   "id": "b81bc6ec",
   "metadata": {},
   "outputs": [],
   "source": [
    "# Initialise params\n",
    "a = tr.tensor(0., requires_grad=True)\n",
    "b = tr.tensor(0., requires_grad=True)\n",
    "\n",
    "# Create the optimiser\n",
    "optimizer = tr.optim.RMSprop([a, b], lr=lr)"
   ]
  },
  {
   "cell_type": "code",
   "execution_count": 10,
   "id": "af2114cb",
   "metadata": {},
   "outputs": [
    {
     "name": "stdout",
     "output_type": "stream",
     "text": [
      "params: 0.010000000707805157 0.009999999776482582 loss: 123.90465545654297\n",
      "params: 1.1153604984283447 1.1027530431747437 loss: 93.82075500488281\n",
      "params: 2.1041107177734375 2.0722572803497314 loss: 71.14530944824219\n",
      "params: 3.0914244651794434 3.0287210941314697 loss: 52.24142837524414\n",
      "params: 4.076870918273926 3.95320725440979 loss: 37.06230545043945\n",
      "params: 5.0597028732299805 4.694555282592773 loss: 25.42506217956543\n",
      "params: 6.038167476654053 4.780937671661377 loss: 16.352022171020508\n",
      "params: 7.010662078857422 4.835211753845215 loss: 9.311007499694824\n",
      "params: 7.972927093505859 4.8884077072143555 loss: 4.282654285430908\n",
      "params: 8.913073539733887 4.940384387969971 loss: 1.2322534322738647\n"
     ]
    }
   ],
   "source": [
    "for i in range(10000):\n",
    "    # Calc output (forward pass)\n",
    "    o = x * a + b\n",
    "    \n",
    "    # Calc loss\n",
    "    l = loss_fn(o, y)\n",
    "    \n",
    "    # Zero grad\n",
    "    optimizer.zero_grad()\n",
    "    \n",
    "    # Calc gradient\n",
    "    l.backward()\n",
    "\n",
    "    # Manually update weights using gradient descent. Wrap in torch.no_grad()\n",
    "    # because weights have requires_grad=True, but we don't need to track this\n",
    "    # in autograd.\n",
    "    optimizer.step()\n",
    "\n",
    "    if i % 1000 == 0:\n",
    "        print(\"params:\", a.item(), b.item(), \"loss:\", l.item())"
   ]
  },
  {
   "cell_type": "markdown",
   "id": "5e536ac0",
   "metadata": {},
   "source": [
    "## Neural Networks (Models)"
   ]
  },
  {
   "cell_type": "code",
   "execution_count": 11,
   "id": "7ffe64ad",
   "metadata": {},
   "outputs": [],
   "source": [
    "class NN(nn.Module):\n",
    "    def __init__(self):\n",
    "        super(NN, self).__init__()\n",
    "        \n",
    "        self.linear = Linear(1, 1)\n",
    "        \n",
    "    def forward(self, x):\n",
    "        y = self.linear(x)\n",
    "        return y"
   ]
  },
  {
   "cell_type": "code",
   "execution_count": 12,
   "id": "71f6b51b",
   "metadata": {},
   "outputs": [],
   "source": [
    "model = NN()\n",
    "optimizer = tr.optim.Adam(model.parameters(), lr=lr)"
   ]
  },
  {
   "cell_type": "code",
   "execution_count": 13,
   "id": "e2b96fc3",
   "metadata": {},
   "outputs": [
    {
     "name": "stdout",
     "output_type": "stream",
     "text": [
      "params: [-0.4044952988624573, 0.18743284046649933] loss: 130.70654296875\n",
      "params: [0.5750799179077148, 1.1373134851455688] loss: 103.68655395507812\n",
      "params: [1.5197066068649292, 1.9944278001785278] loss: 81.33903503417969\n",
      "params: [2.438163995742798, 2.766343593597412] loss: 62.854679107666016\n",
      "params: [3.3357338905334473, 3.446805238723755] loss: 47.66291809082031\n",
      "params: [4.214394569396973, 4.014077186584473] loss: 35.309547424316406\n",
      "params: [5.073246955871582, 4.433699607849121] loss: 25.370012283325195\n",
      "params: [5.908753395080566, 4.681946277618408] loss: 17.44463348388672\n",
      "params: [6.714770793914795, 4.794194221496582] loss: 11.244179725646973\n",
      "params: [7.482138156890869, 4.851014137268066] loss: 6.60529088973999\n"
     ]
    }
   ],
   "source": [
    "for i in range(10000):\n",
    "    # Calc output (forward pass)\n",
    "    o = model(x.view(-1, 1))\n",
    "    \n",
    "    # Calc loss\n",
    "    l = loss_fn(o, y.view(-1, 1))\n",
    "    \n",
    "    # Zero grad\n",
    "    optimizer.zero_grad()\n",
    "    \n",
    "    # Calc gradient\n",
    "    l.backward()\n",
    "\n",
    "    # Manually update weights using gradient descent. Wrap in torch.no_grad()\n",
    "    # because weights have requires_grad=True, but we don't need to track this\n",
    "    # in autograd.\n",
    "    optimizer.step()\n",
    "\n",
    "    if i % 1000 == 0:\n",
    "        print(\"params:\", [p.item() for p in model.parameters()], \"loss:\", l.item())"
   ]
  },
  {
   "cell_type": "markdown",
   "id": "94ede45d",
   "metadata": {},
   "source": [
    "## Attention\n",
    "\n",
    "* First we had:\n",
    "  * CNN for images\n",
    "  * RNNs for text and time series and sound\n",
    "  * Dense for everything else\n",
    "* Second we added attention to these architectures\n",
    "* Third Transformer Models\n",
    "* https://www.youtube.com/watch?v=FC8PziPmxnQ&ab_channel=ShusenWang\n",
    "\n",
    "Lets look at the images https://towardsdatascience.com/how-to-code-the-transformer-in-pytorch-24db27c8f9ec"
   ]
  },
  {
   "cell_type": "code",
   "execution_count": 14,
   "id": "88d7d69e",
   "metadata": {},
   "outputs": [],
   "source": [
    "class Attention(nn.Module):\n",
    "    def __init__(self, heads, hidden, dropout=0.1):\n",
    "        super(Attention, self).__init__()\n",
    "\n",
    "        self.hidden = hidden\n",
    "        self.head   = hidden // heads\n",
    "        self.heads  = heads\n",
    "\n",
    "        self.v = Linear(hidden, hidden)\n",
    "        self.k = Linear(hidden, hidden)\n",
    "        self.q = Linear(hidden, hidden)\n",
    "        self.o = Linear(hidden, hidden)\n",
    "        \n",
    "        self.dropout = Dropout(dropout)\n",
    "    \n",
    "    def attention(self, q, k, v, mask=None):\n",
    "        # input dim: (bs, heads, seq, head)\n",
    "        # output dim: (bs, heads, seq, seq)\n",
    "        # Dot product each query with each key (each head separately)\n",
    "        scores = tr.matmul(q, k.transpose(-2, -1)) / math.sqrt(self.head)\n",
    "\n",
    "        # Apply mask\n",
    "        if mask is not None:\n",
    "            mask   = mask.unsqueeze(1)\n",
    "            scores = scores.masked_fill(mask == 0, -1e9)\n",
    "\n",
    "        # Make the results distributions\n",
    "        # Does not change dimentions\n",
    "        scores = F.softmax(scores, dim=-1)\n",
    "\n",
    "        # Dropout (does not change dimentions)\n",
    "        ascores = self.dropout(scores)\n",
    "\n",
    "        # Multiply the distributions with the values\n",
    "        # input dim: (bs, heads, seq, seq)\n",
    "        # output dim: (bs, heads, seq, head)\n",
    "        output = tr.matmul(scores, v)\n",
    "        \n",
    "        return output\n",
    "    \n",
    "    def forward(self, input, q, k, v, mask=None):\n",
    "        # Get batch size\n",
    "        bs = q.shape[0]\n",
    "        \n",
    "        # Pass the input through the linear layers and split heads\n",
    "        q = self.q(q).view(bs, -1, self.heads, self.head)\n",
    "        k = self.k(k).view(bs, -1, self.heads, self.head)\n",
    "        v = self.v(v).view(bs, -1, self.heads, self.head)\n",
    "        \n",
    "        # transpose to get dimensions bs * h * sl * d_model\n",
    "        k = k.transpose(1,2)\n",
    "        q = q.transpose(1,2)\n",
    "        v = v.transpose(1,2)\n",
    "\n",
    "        # calculate attention using function we will define next\n",
    "        scores = self.attention(q, k, v, mask)\n",
    "\n",
    "        # concatenate heads and put through final linear layer\n",
    "        concat = scores.transpose(1,2) \\\n",
    "                       .contiguous() \\\n",
    "                       .view(bs, -1, self.hidden)\n",
    "\n",
    "        output = self.out(concat)\n",
    "\n",
    "        return output"
   ]
  },
  {
   "cell_type": "markdown",
   "id": "d21e2efc",
   "metadata": {},
   "source": [
    "# Transformers\n",
    "* Replace need for recurrent and even CNNs I think. A newer deep architecture which uses self attention\n",
    "* Works on sequence data (there are image transformers now)\n",
    "* Comprises of Encoders and Decoders\n",
    "* Allegedly beats pure LSTM encoder/decoder architechture and are more efficient to train\n",
    "* BERT is an example\n",
    "* Introduced in 2017 by google and BERT is based on it\n",
    "* Sentiment analysis, questin answering, language modeling, language generation\n",
    "https://pytorch.org/tutorials/beginner/transformer_tutorial.html"
   ]
  },
  {
   "cell_type": "code",
   "execution_count": 15,
   "id": "9c3f1206",
   "metadata": {},
   "outputs": [],
   "source": [
    "class PositionalEncoding(nn.Module):\n",
    "    def __init__(self, d_model, max_seq_len=5000):\n",
    "        super(PositionalEncoding, self).__init__()\n",
    "        self.d_model = d_model\n",
    "        \n",
    "        pe = tr.zeros(max_seq_len, d_model)\n",
    "        \n",
    "        for pos in range(max_seq_len):\n",
    "            for i in range(0, d_model, 2):\n",
    "                pe[pos, i] = \\\n",
    "                    math.sin(pos / (10000 ** ((2 * i) / d_model)))\n",
    "                pe[pos, i + 1] = \\\n",
    "                    math.cos(pos / (10000 ** ((2 * (i + 1)) / d_model)))\n",
    "        pe = pe.unsqueeze(0).transpose(0,1 )\n",
    "        self.register_buffer('pe', pe)\n",
    "\n",
    "    def forward(self, x):\n",
    "        with tr.no_grad():\n",
    "            seq = x.size(0)\n",
    "            bs = x.size(1)\n",
    "            pe = self.pe[:seq, :]\n",
    "            x = x + pe\n",
    "            return x\n",
    "    \n",
    "# helper Module to convert tensor of input indices into corresponding tensor of token embeddings\n",
    "class TokenEmbedding(nn.Module):\n",
    "    def __init__(self, vocab_size, emb_size):\n",
    "        super(TokenEmbedding, self).__init__()\n",
    "        self.embedding = nn.Embedding(vocab_size, emb_size)\n",
    "        self.emb_size = emb_size\n",
    "\n",
    "    def forward(self, tokens):\n",
    "        return self.embedding(tokens.long()) * math.sqrt(self.emb_size)"
   ]
  },
  {
   "cell_type": "code",
   "execution_count": 16,
   "id": "a376ca5b",
   "metadata": {},
   "outputs": [
    {
     "data": {
      "image/png": "[encoded data removed]",
      "text/plain": [
       "<Figure size 576x288 with 2 Axes>"
      ]
     },
     "metadata": {
      "needs_background": "light"
     },
     "output_type": "display_data"
    }
   ],
   "source": [
    "pe = PositionalEncoding(200)\n",
    "cax = plt.matshow(pe.pe.view(5000, 200)[:100, :500])\n",
    "plt.gcf().colorbar(cax)\n",
    "pass"
   ]
  },
  {
   "cell_type": "code",
   "execution_count": null,
   "id": "a4a63f87",
   "metadata": {},
   "outputs": [],
   "source": []
  }
 ],
 "metadata": {
  "kernelspec": {
   "display_name": "Python 3 (ipykernel)",
   "language": "python",
   "name": "python3"
  },
  "language_info": {
   "codemirror_mode": {
    "name": "ipython",
    "version": 3
   },
   "file_extension": ".py",
   "mimetype": "text/x-python",
   "name": "python",
   "nbconvert_exporter": "python",
   "pygments_lexer": "ipython3",
   "version": "3.7.11"
  }
 },
 "nbformat": 4,
 "nbformat_minor": 5
}
