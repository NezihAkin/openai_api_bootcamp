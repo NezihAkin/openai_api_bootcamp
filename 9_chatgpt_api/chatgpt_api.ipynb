{
 "cells": [
  {
   "cell_type": "code",
   "execution_count": null,
   "metadata": {},
   "outputs": [],
   "source": [
    "import os\n",
    "import openai\n",
    "import pandas as pd"
   ]
  },
  {
   "cell_type": "code",
   "execution_count": null,
   "metadata": {},
   "outputs": [],
   "source": [
    "openai.api_key = os.getenv('OPENAI_API_KEY')"
   ]
  },
  {
   "cell_type": "code",
   "execution_count": null,
   "metadata": {},
   "outputs": [],
   "source": [
    "response = openai.ChatCompletion.create(\n",
    "    model = \"gpt-3.5-turbo\",\n",
    "    messages = [\n",
    "        {\"role\":\"system\", \"content\":\"You are a statistics teaching assistant.\"},\n",
    "        {\"role\":\"user\", \"content\":\"Who invented the LASSO regression?\"},\n",
    "        {\"role\":\"assistant\", \"content\":\"LASSO regression was introduced by Robert Tibshirani in 1996.\"},\n",
    "        {\"role\":\"user\", \"content\":\"Tell me more about it\"}\n",
    "    ],\n",
    "    max_tokens = 256\n",
    ")"
   ]
  },
  {
   "cell_type": "code",
   "execution_count": null,
   "metadata": {},
   "outputs": [],
   "source": [
    "print(response['choices'][0]['message']['content'])"
   ]
  },
  {
   "cell_type": "code",
   "execution_count": null,
   "metadata": {},
   "outputs": [],
   "source": [
    "response = openai.ChatCompletion.create(\n",
    "    model = \"gpt-3.5-turbo\",\n",
    "    messages = [\n",
    "        {\"role\":\"system\", \"content\":\"You are a history teaching assistant.\"},\n",
    "        {\"role\":\"user\", \"content\":\"How was Ataturk's visit to the UK?\"}\n",
    "    ],\n",
    "    max_tokens = 256\n",
    ")"
   ]
  },
  {
   "cell_type": "code",
   "execution_count": null,
   "metadata": {},
   "outputs": [],
   "source": [
    "print(response['choices'][0]['message']['content'])"
   ]
  },
  {
   "cell_type": "code",
   "execution_count": null,
   "metadata": {},
   "outputs": [],
   "source": [
    "response = openai.ChatCompletion.create(\n",
    "    model = \"gpt-4\",\n",
    "    messages = [\n",
    "        {\"role\":\"system\", \"content\":\"You are a history teaching assistant.\"},\n",
    "        {\"role\":\"user\", \"content\":\"How was Ataturk's visit to the UK?\"}\n",
    "    ],\n",
    "    max_tokens = 256\n",
    ")"
   ]
  },
  {
   "cell_type": "code",
   "execution_count": null,
   "metadata": {},
   "outputs": [],
   "source": [
    "print(response['choices'][0]['message']['content'])"
   ]
  },
  {
   "cell_type": "code",
   "execution_count": null,
   "metadata": {},
   "outputs": [],
   "source": []
  },
  {
   "cell_type": "code",
   "execution_count": null,
   "metadata": {},
   "outputs": [],
   "source": []
  },
  {
   "cell_type": "code",
   "execution_count": null,
   "metadata": {},
   "outputs": [],
   "source": []
  },
  {
   "cell_type": "code",
   "execution_count": null,
   "metadata": {},
   "outputs": [],
   "source": []
  },
  {
   "cell_type": "code",
   "execution_count": null,
   "metadata": {},
   "outputs": [],
   "source": [
    "# Let's start to create our own chatbot\n",
    "class CreateBot():\n",
    "    def __init__(self, system_prompt):\n",
    "        self.system = system_prompt\n",
    "        self.messages = [{\"role\":\"system\",\"content\":system_prompt}]\n",
    "\n",
    "    def chat(self):\n",
    "        print(\"To end conversation, type END\")\n",
    "        question = \"\"\n",
    "\n",
    "        while question != \"END\":\n",
    "            question = input(\"\")\n",
    "            print(\"\\n\")\n",
    "            print(question)\n",
    "\n",
    "            self.messages.append({\"role\":\"user\",\"content\":question})\n",
    "\n",
    "            response = openai.ChatCompletion.create(\n",
    "                model = \"gpt-3.5-turbo\",\n",
    "                messages = self.messages\n",
    "            )\n",
    "\n",
    "            content = response['choices'][0]['message']['content']\n",
    "            print(content)\n",
    "            print('\\n')\n",
    "\n",
    "            self.messages.append({\"role\":\"assistant\",\"content\":content})\n",
    "        \n",
    "\n",
    "            "
   ]
  },
  {
   "cell_type": "code",
   "execution_count": null,
   "metadata": {},
   "outputs": [],
   "source": [
    "history_tutor = CreateBot(\"You are a Turkish history tutor\")"
   ]
  },
  {
   "cell_type": "code",
   "execution_count": null,
   "metadata": {},
   "outputs": [],
   "source": [
    "history_tutor.chat()"
   ]
  },
  {
   "cell_type": "code",
   "execution_count": null,
   "metadata": {},
   "outputs": [],
   "source": []
  }
 ],
 "metadata": {
  "interpreter": {
   "hash": "02134f8ea30fad655469da5649ca383d17a1ace67b2c5a3e4f81436398c721d2"
  },
  "kernelspec": {
   "display_name": "Python 3.9.6 ('optimizer')",
   "language": "python",
   "name": "python3"
  },
  "language_info": {
   "codemirror_mode": {
    "name": "ipython",
    "version": 3
   },
   "file_extension": ".py",
   "mimetype": "text/x-python",
   "name": "python",
   "nbconvert_exporter": "python",
   "pygments_lexer": "ipython3",
   "version": "3.11.2"
  },
  "orig_nbformat": 4
 },
 "nbformat": 4,
 "nbformat_minor": 2
}
