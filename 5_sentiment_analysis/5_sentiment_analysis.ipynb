{
 "cells": [
  {
   "cell_type": "code",
   "execution_count": null,
   "metadata": {},
   "outputs": [],
   "source": [
    "import pandas as pd\n",
    "import os\n",
    "import openai\n",
    "import praw # Python Reddit Wrapper"
   ]
  },
  {
   "cell_type": "code",
   "execution_count": null,
   "metadata": {},
   "outputs": [],
   "source": [
    "openai.api_key = os.getenv(\"OPENAI_API_KEY\")"
   ]
  },
  {
   "cell_type": "code",
   "execution_count": null,
   "metadata": {},
   "outputs": [],
   "source": [
    "client_id = \"LCwio15ckIOGm9xSXg5AEQ\"\n",
    "client_secret = \"5YsjsV7HP2qdbeAKslCyCxMpCYqCIQ\""
   ]
  },
  {
   "cell_type": "code",
   "execution_count": null,
   "metadata": {},
   "outputs": [],
   "source": [
    "# Create the connection to Reddit\n",
    "reddit = praw.Reddit(client_id=client_id,\n",
    "                    client_secret=client_secret,\n",
    "                    user_agent=\"sentiment_analysis\")"
   ]
  },
  {
   "cell_type": "code",
   "execution_count": null,
   "metadata": {},
   "outputs": [],
   "source": [
    "# With this reddit connection, tt is possible to have posts and comments in a subreddit to scrap for our sentiment analysis.\n",
    "def get_titles_and_comments(subreddit=\"stocks\", sub_instance=\"hot\", limit = 5, num_comments = 2, skip_first =2):\n",
    "    subreddit = reddit.subreddit(subreddit)\n",
    "    titles_and_comments = {}\n",
    "    for post_counter, post in enumerate(getattr(subreddit, sub_instance)(limit = limit)):\n",
    "        if post_counter < skip_first:\n",
    "            continue\n",
    "        post_counter+= (1-skip_first)\n",
    "        \n",
    "        titles_and_comments[post_counter] = \"\"\n",
    "\n",
    "        submission = reddit.submission(post.id)\n",
    "        title = post.title\n",
    "\n",
    "        titles_and_comments[post_counter] += \"Title: \" + title  + \"\\n\\n\"\n",
    "        titles_and_comments[post_counter] += \"Comments: \\n\\n\"\n",
    "        \n",
    "        comment_counter = 0\n",
    "\n",
    "        for comment in submission.comments:\n",
    "            comment = comment.body\n",
    "            if not comment == \"[deleted]\":\n",
    "                titles_and_comments[post_counter] += comment + \"\\n\"\n",
    "                comment_counter+=1\n",
    "            if comment_counter == num_comments:\n",
    "                break\n",
    "\n",
    "    return titles_and_comments\n"
   ]
  },
  {
   "cell_type": "code",
   "execution_count": null,
   "metadata": {},
   "outputs": [],
   "source": [
    "titles_and_comments = get_titles_and_comments()"
   ]
  },
  {
   "cell_type": "code",
   "execution_count": null,
   "metadata": {},
   "outputs": [],
   "source": [
    "titles_and_comments"
   ]
  },
  {
   "cell_type": "code",
   "execution_count": null,
   "metadata": {},
   "outputs": [],
   "source": [
    "print(titles_and_comments[1])"
   ]
  },
  {
   "cell_type": "code",
   "execution_count": null,
   "metadata": {},
   "outputs": [],
   "source": [
    "def create_prompt(title_and_comments):\n",
    "\n",
    "    task = \"Return the stock ticker or company in the following heading and comments and classify the sentiment. If no ticker or company is mentioned write 'No company mentioned':\\n\\n\"\n",
    "    return task + title_and_comments"
   ]
  },
  {
   "cell_type": "code",
   "execution_count": null,
   "metadata": {},
   "outputs": [],
   "source": [
    "prompt = create_prompt(titles_and_comments[1])\n",
    "print(prompt)"
   ]
  },
  {
   "cell_type": "code",
   "execution_count": null,
   "metadata": {},
   "outputs": [],
   "source": [
    "for key, title_and_comments in titles_and_comments.items():\n",
    "    \n",
    "    prompt = create_prompt(title_and_comments)\n",
    "    \n",
    "    response = openai.Completion.create(engine=\"text-davinci-003\",\n",
    "                                                prompt=prompt,\n",
    "                                                max_tokens=256,\n",
    "                                                temperature=0,\n",
    "                                                top_p=1.0,\n",
    "                                                frequency_penalty=0.0,\n",
    "                                                presence_penalty=0.0)\n",
    "    print(title_and_comments)\n",
    "    print(\"Sentiment: \" + response[\"choices\"][0][\"text\"])\n",
    "    print(\"-\"*30)"
   ]
  },
  {
   "cell_type": "code",
   "execution_count": null,
   "metadata": {},
   "outputs": [],
   "source": []
  }
 ],
 "metadata": {
  "interpreter": {
   "hash": "1d4e298bcd666cea5634d864daa6b84a8070fd9981a6ce62f6b9d1dd5b6995d5"
  },
  "kernelspec": {
   "display_name": "Python 3.11.2 ('openai')",
   "language": "python",
   "name": "python3"
  },
  "language_info": {
   "codemirror_mode": {
    "name": "ipython",
    "version": 3
   },
   "file_extension": ".py",
   "mimetype": "text/x-python",
   "name": "python",
   "nbconvert_exporter": "python",
   "pygments_lexer": "ipython3",
   "version": "3.11.2"
  },
  "orig_nbformat": 4
 },
 "nbformat": 4,
 "nbformat_minor": 2
}
