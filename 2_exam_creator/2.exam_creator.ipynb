{
 "cells": [
  {
   "cell_type": "code",
   "execution_count": null,
   "metadata": {},
   "outputs": [],
   "source": [
    "import os\n",
    "import openai\n",
    "import pandas as pd"
   ]
  },
  {
   "cell_type": "code",
   "execution_count": null,
   "metadata": {},
   "outputs": [],
   "source": [
    "openai.api_key = os.getenv(\"OPENAI_API_KEY\")    "
   ]
  },
  {
   "cell_type": "code",
   "execution_count": null,
   "metadata": {},
   "outputs": [],
   "source": [
    "def create_prompt(topic, num_questions, num_possible_answers):\n",
    "    prompt = f\"Create a multiple choice quiz on the topic of {topic} consisting of {num_questions} questions. \" \\\n",
    "             +f\"Each question should have {num_possible_answers} options. \"\\\n",
    "             +f\"Also include the correct answer for each question using the starting string: 'Correct Answer:'\"\n",
    "    return prompt    "
   ]
  },
  {
   "cell_type": "code",
   "execution_count": null,
   "metadata": {},
   "outputs": [],
   "source": [
    "response = openai.ChatCompletion.create(\n",
    "    model = 'gpt-3.5-turbo',\n",
    "    messages = [{\"role\":\"user\",\"content\":create_prompt(\"Turkish history\",4,4)}],\n",
    "    max_tokens = 256,\n",
    "    temperature = 0.7\n",
    ")"
   ]
  },
  {
   "cell_type": "code",
   "execution_count": null,
   "metadata": {},
   "outputs": [],
   "source": [
    "response"
   ]
  },
  {
   "cell_type": "code",
   "execution_count": null,
   "metadata": {},
   "outputs": [],
   "source": [
    "print(response[\"choices\"][0][\"message\"][\"content\"])"
   ]
  },
  {
   "cell_type": "code",
   "execution_count": null,
   "metadata": {},
   "outputs": [],
   "source": [
    "# Or I can use text-davinci\n",
    "response2 = openai.Completion.create(engine=\"text-davinci-003\",\n",
    "                                            prompt=create_prompt(\"Python\", 4, 4),\n",
    "                                            max_tokens=256,\n",
    "                                            temperature=0.7)"
   ]
  },
  {
   "cell_type": "code",
   "execution_count": null,
   "metadata": {},
   "outputs": [],
   "source": [
    "print(response2[\"choices\"][0][\"text\"])"
   ]
  }
 ],
 "metadata": {
  "interpreter": {
   "hash": "1d4e298bcd666cea5634d864daa6b84a8070fd9981a6ce62f6b9d1dd5b6995d5"
  },
  "kernelspec": {
   "display_name": "Python 3.11.2 ('openai')",
   "language": "python",
   "name": "python3"
  },
  "language_info": {
   "codemirror_mode": {
    "name": "ipython",
    "version": 3
   },
   "file_extension": ".py",
   "mimetype": "text/x-python",
   "name": "python",
   "nbconvert_exporter": "python",
   "pygments_lexer": "ipython3",
   "version": "3.11.2"
  },
  "orig_nbformat": 4
 },
 "nbformat": 4,
 "nbformat_minor": 2
}
