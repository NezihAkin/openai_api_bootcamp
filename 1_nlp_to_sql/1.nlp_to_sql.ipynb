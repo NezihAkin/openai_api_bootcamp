{
 "cells": [
  {
   "cell_type": "code",
   "execution_count": null,
   "metadata": {},
   "outputs": [],
   "source": [
    "import openai\n",
    "import os\n",
    "import pandas as pd"
   ]
  },
  {
   "cell_type": "code",
   "execution_count": null,
   "metadata": {},
   "outputs": [],
   "source": [
    "openai.api_key = os.getenv(\"OPENAI_API_KEY\")"
   ]
  },
  {
   "cell_type": "code",
   "execution_count": null,
   "metadata": {},
   "outputs": [],
   "source": [
    "df = pd.read_csv(\"sales_data_sample.csv\")"
   ]
  },
  {
   "cell_type": "code",
   "execution_count": null,
   "metadata": {},
   "outputs": [],
   "source": [
    "df.head()"
   ]
  },
  {
   "cell_type": "code",
   "execution_count": null,
   "metadata": {},
   "outputs": [],
   "source": [
    "import sqlalchemy\n",
    "from sqlalchemy import create_engine\n",
    "from sqlalchemy import text"
   ]
  },
  {
   "cell_type": "code",
   "execution_count": null,
   "metadata": {},
   "outputs": [],
   "source": [
    "# Create a temporary database in RAM\n",
    "temp_db = create_engine(\"sqlite:///:memory:\", echo=True)"
   ]
  },
  {
   "cell_type": "code",
   "execution_count": null,
   "metadata": {},
   "outputs": [],
   "source": [
    "# Add df to temporary database as sql table\n",
    "data = df.to_sql(name=\"sales\",con=temp_db)"
   ]
  },
  {
   "cell_type": "code",
   "execution_count": null,
   "metadata": {},
   "outputs": [],
   "source": [
    "# Run an sql query with the connection to this sql database.\n",
    "with temp_db.connect() as conn:\n",
    "    result = conn.execute(text(\"SELECT sum(SALES) FROM sales\"))"
   ]
  },
  {
   "cell_type": "code",
   "execution_count": null,
   "metadata": {},
   "outputs": [],
   "source": [
    "result.all()"
   ]
  },
  {
   "cell_type": "code",
   "execution_count": null,
   "metadata": {},
   "outputs": [],
   "source": [
    "# Now, I need to create a prompt to deliver OpenAI the information about the table I have. I create a function for that.\n",
    "def create_table(df):\n",
    "    prompt = \"\"\"### sqlite SQL table, with its properties:\n",
    "    #\n",
    "    # Sales({})\n",
    "    #  \n",
    "    \"\"\".format(\",\".join(str(col) for col in df.columns))\n",
    "    return prompt"
   ]
  },
  {
   "cell_type": "code",
   "execution_count": null,
   "metadata": {},
   "outputs": [],
   "source": [
    "print(create_table(df))"
   ]
  },
  {
   "cell_type": "code",
   "execution_count": null,
   "metadata": {},
   "outputs": [],
   "source": [
    "# For a non-technical person, create a prompt input\n",
    "def prompt_input():\n",
    "    npl_text = input(\"Enter the info you want:\")\n",
    "    return npl_text"
   ]
  },
  {
   "cell_type": "code",
   "execution_count": null,
   "metadata": {},
   "outputs": [],
   "source": [
    "prompt_input()"
   ]
  },
  {
   "cell_type": "code",
   "execution_count": null,
   "metadata": {},
   "outputs": [],
   "source": [
    "# Now, it is time to combine of them all\n",
    "def combine_prompts(df, query):\n",
    "    table_def = create_table(df)\n",
    "    query_string = f\"###A query to answer: {query}\\nSELECT\"\n",
    "    return table_def+query_string"
   ]
  },
  {
   "cell_type": "code",
   "execution_count": null,
   "metadata": {},
   "outputs": [],
   "source": [
    "nlp_text = prompt_input()\n",
    "combine_prompts(df,nlp_text)\n",
    "# So in the end, this one will be send to GPT\n",
    "\n",
    "# Muhtemelen bu Davinci ile text completion yapilarak denenecek. Sonra aynisini ChatGPT ile cagiracagim."
   ]
  },
  {
   "cell_type": "code",
   "execution_count": null,
   "metadata": {},
   "outputs": [],
   "source": []
  }
 ],
 "metadata": {
  "interpreter": {
   "hash": "1d4e298bcd666cea5634d864daa6b84a8070fd9981a6ce62f6b9d1dd5b6995d5"
  },
  "kernelspec": {
   "display_name": "Python 3.11.2 ('openai')",
   "language": "python",
   "name": "python3"
  },
  "language_info": {
   "codemirror_mode": {
    "name": "ipython",
    "version": 3
   },
   "file_extension": ".py",
   "mimetype": "text/x-python",
   "name": "python",
   "nbconvert_exporter": "python",
   "pygments_lexer": "ipython3",
   "version": "3.11.2"
  },
  "orig_nbformat": 4
 },
 "nbformat": 4,
 "nbformat_minor": 2
}
