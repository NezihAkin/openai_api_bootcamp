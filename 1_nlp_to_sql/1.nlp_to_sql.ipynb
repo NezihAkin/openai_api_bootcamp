{
 "cells": [
  {
   "cell_type": "code",
   "execution_count": 22,
   "metadata": {},
   "outputs": [],
   "source": [
    "import openai\n",
    "import os\n",
    "import pandas as pd"
   ]
  },
  {
   "cell_type": "code",
   "execution_count": 40,
   "metadata": {},
   "outputs": [],
   "source": [
    "openai.api_key = os.getenv(\"OPENAI_API_KEY\")"
   ]
  },
  {
   "cell_type": "code",
   "execution_count": 24,
   "metadata": {},
   "outputs": [],
   "source": [
    "df = pd.read_csv(\"sales_data_sample.csv\")"
   ]
  },
  {
   "cell_type": "code",
   "execution_count": 25,
   "metadata": {},
   "outputs": [
    {
     "data": {
      "text/html": [
       "<div>\n",
       "<style scoped>\n",
       "    .dataframe tbody tr th:only-of-type {\n",
       "        vertical-align: middle;\n",
       "    }\n",
       "\n",
       "    .dataframe tbody tr th {\n",
       "        vertical-align: top;\n",
       "    }\n",
       "\n",
       "    .dataframe thead th {\n",
       "        text-align: right;\n",
       "    }\n",
       "</style>\n",
       "<table border=\"1\" class=\"dataframe\">\n",
       "  <thead>\n",
       "    <tr style=\"text-align: right;\">\n",
       "      <th></th>\n",
       "      <th>ORDERNUMBER</th>\n",
       "      <th>QUANTITYORDERED</th>\n",
       "      <th>PRICEEACH</th>\n",
       "      <th>SALES</th>\n",
       "      <th>ORDERDATE</th>\n",
       "      <th>QTR_ID</th>\n",
       "      <th>MONTH_ID</th>\n",
       "      <th>YEAR_ID</th>\n",
       "      <th>PRODUCTLINE</th>\n",
       "      <th>PHONE</th>\n",
       "      <th>ADDRESSLINE1</th>\n",
       "      <th>CITY</th>\n",
       "      <th>STATE</th>\n",
       "      <th>POSTALCODE</th>\n",
       "      <th>COUNTRY</th>\n",
       "      <th>CONTACTLASTNAME</th>\n",
       "      <th>CONTACTFIRSTNAME</th>\n",
       "    </tr>\n",
       "  </thead>\n",
       "  <tbody>\n",
       "    <tr>\n",
       "      <th>0</th>\n",
       "      <td>10107</td>\n",
       "      <td>30</td>\n",
       "      <td>95.70</td>\n",
       "      <td>2871.00</td>\n",
       "      <td>2/24/2003 0:00</td>\n",
       "      <td>1</td>\n",
       "      <td>2</td>\n",
       "      <td>2003</td>\n",
       "      <td>Motorcycles</td>\n",
       "      <td>2125557818</td>\n",
       "      <td>897 Long Airport Avenue</td>\n",
       "      <td>NYC</td>\n",
       "      <td>NY</td>\n",
       "      <td>10022</td>\n",
       "      <td>USA</td>\n",
       "      <td>Yu</td>\n",
       "      <td>Kwai</td>\n",
       "    </tr>\n",
       "    <tr>\n",
       "      <th>1</th>\n",
       "      <td>10121</td>\n",
       "      <td>34</td>\n",
       "      <td>81.35</td>\n",
       "      <td>2765.90</td>\n",
       "      <td>5/7/2003 0:00</td>\n",
       "      <td>2</td>\n",
       "      <td>5</td>\n",
       "      <td>2003</td>\n",
       "      <td>Motorcycles</td>\n",
       "      <td>26.47.1555</td>\n",
       "      <td>59 rue de l'Abbaye</td>\n",
       "      <td>Reims</td>\n",
       "      <td>NaN</td>\n",
       "      <td>51100</td>\n",
       "      <td>France</td>\n",
       "      <td>Henriot</td>\n",
       "      <td>Paul</td>\n",
       "    </tr>\n",
       "    <tr>\n",
       "      <th>2</th>\n",
       "      <td>10134</td>\n",
       "      <td>41</td>\n",
       "      <td>94.74</td>\n",
       "      <td>3884.34</td>\n",
       "      <td>7/1/2003 0:00</td>\n",
       "      <td>3</td>\n",
       "      <td>7</td>\n",
       "      <td>2003</td>\n",
       "      <td>Motorcycles</td>\n",
       "      <td>+33 1 46 62 7555</td>\n",
       "      <td>27 rue du Colonel Pierre Avia</td>\n",
       "      <td>Paris</td>\n",
       "      <td>NaN</td>\n",
       "      <td>75508</td>\n",
       "      <td>France</td>\n",
       "      <td>Da Cunha</td>\n",
       "      <td>Daniel</td>\n",
       "    </tr>\n",
       "    <tr>\n",
       "      <th>3</th>\n",
       "      <td>10145</td>\n",
       "      <td>45</td>\n",
       "      <td>83.26</td>\n",
       "      <td>3746.70</td>\n",
       "      <td>8/25/2003 0:00</td>\n",
       "      <td>3</td>\n",
       "      <td>8</td>\n",
       "      <td>2003</td>\n",
       "      <td>Motorcycles</td>\n",
       "      <td>6265557265</td>\n",
       "      <td>78934 Hillside Dr.</td>\n",
       "      <td>Pasadena</td>\n",
       "      <td>CA</td>\n",
       "      <td>90003</td>\n",
       "      <td>USA</td>\n",
       "      <td>Young</td>\n",
       "      <td>Julie</td>\n",
       "    </tr>\n",
       "    <tr>\n",
       "      <th>4</th>\n",
       "      <td>10159</td>\n",
       "      <td>49</td>\n",
       "      <td>100.00</td>\n",
       "      <td>5205.27</td>\n",
       "      <td>10/10/2003 0:00</td>\n",
       "      <td>4</td>\n",
       "      <td>10</td>\n",
       "      <td>2003</td>\n",
       "      <td>Motorcycles</td>\n",
       "      <td>6505551386</td>\n",
       "      <td>7734 Strong St.</td>\n",
       "      <td>San Francisco</td>\n",
       "      <td>CA</td>\n",
       "      <td>NaN</td>\n",
       "      <td>USA</td>\n",
       "      <td>Brown</td>\n",
       "      <td>Julie</td>\n",
       "    </tr>\n",
       "  </tbody>\n",
       "</table>\n",
       "</div>"
      ],
      "text/plain": [
       "   ORDERNUMBER  QUANTITYORDERED  PRICEEACH    SALES        ORDERDATE  QTR_ID  \\\n",
       "0        10107               30      95.70  2871.00   2/24/2003 0:00       1   \n",
       "1        10121               34      81.35  2765.90    5/7/2003 0:00       2   \n",
       "2        10134               41      94.74  3884.34    7/1/2003 0:00       3   \n",
       "3        10145               45      83.26  3746.70   8/25/2003 0:00       3   \n",
       "4        10159               49     100.00  5205.27  10/10/2003 0:00       4   \n",
       "\n",
       "   MONTH_ID  YEAR_ID  PRODUCTLINE             PHONE  \\\n",
       "0         2     2003  Motorcycles        2125557818   \n",
       "1         5     2003  Motorcycles        26.47.1555   \n",
       "2         7     2003  Motorcycles  +33 1 46 62 7555   \n",
       "3         8     2003  Motorcycles        6265557265   \n",
       "4        10     2003  Motorcycles        6505551386   \n",
       "\n",
       "                    ADDRESSLINE1           CITY STATE POSTALCODE COUNTRY  \\\n",
       "0        897 Long Airport Avenue            NYC    NY      10022     USA   \n",
       "1             59 rue de l'Abbaye          Reims   NaN      51100  France   \n",
       "2  27 rue du Colonel Pierre Avia          Paris   NaN      75508  France   \n",
       "3             78934 Hillside Dr.       Pasadena    CA      90003     USA   \n",
       "4                7734 Strong St.  San Francisco    CA        NaN     USA   \n",
       "\n",
       "  CONTACTLASTNAME CONTACTFIRSTNAME  \n",
       "0              Yu             Kwai  \n",
       "1         Henriot             Paul  \n",
       "2        Da Cunha           Daniel  \n",
       "3           Young            Julie  \n",
       "4           Brown            Julie  "
      ]
     },
     "execution_count": 25,
     "metadata": {},
     "output_type": "execute_result"
    }
   ],
   "source": [
    "df.head()"
   ]
  },
  {
   "cell_type": "code",
   "execution_count": 26,
   "metadata": {},
   "outputs": [],
   "source": [
    "import sqlalchemy\n",
    "from sqlalchemy import create_engine\n",
    "from sqlalchemy import text"
   ]
  },
  {
   "cell_type": "code",
   "execution_count": 27,
   "metadata": {},
   "outputs": [],
   "source": [
    "# Create a temporary database in RAM\n",
    "temp_db = create_engine(\"sqlite:///:memory:\", echo=True)"
   ]
  },
  {
   "cell_type": "code",
   "execution_count": 28,
   "metadata": {},
   "outputs": [
    {
     "name": "stdout",
     "output_type": "stream",
     "text": [
      "2023-03-07 10:33:19,917 INFO sqlalchemy.engine.Engine BEGIN (implicit)\n",
      "2023-03-07 10:33:19,918 INFO sqlalchemy.engine.Engine PRAGMA main.table_info(\"sales\")\n",
      "2023-03-07 10:33:19,919 INFO sqlalchemy.engine.Engine [raw sql] ()\n",
      "2023-03-07 10:33:19,920 INFO sqlalchemy.engine.Engine PRAGMA temp.table_info(\"sales\")\n",
      "2023-03-07 10:33:19,920 INFO sqlalchemy.engine.Engine [raw sql] ()\n",
      "2023-03-07 10:33:19,921 INFO sqlalchemy.engine.Engine ROLLBACK\n",
      "2023-03-07 10:33:19,923 INFO sqlalchemy.engine.Engine BEGIN (implicit)\n",
      "2023-03-07 10:33:19,924 INFO sqlalchemy.engine.Engine \n",
      "CREATE TABLE sales (\n",
      "\t\"index\" BIGINT, \n",
      "\t\"ORDERNUMBER\" BIGINT, \n",
      "\t\"QUANTITYORDERED\" BIGINT, \n",
      "\t\"PRICEEACH\" FLOAT, \n",
      "\t\"SALES\" FLOAT, \n",
      "\t\"ORDERDATE\" TEXT, \n",
      "\t\"QTR_ID\" BIGINT, \n",
      "\t\"MONTH_ID\" BIGINT, \n",
      "\t\"YEAR_ID\" BIGINT, \n",
      "\t\"PRODUCTLINE\" TEXT, \n",
      "\t\"PHONE\" TEXT, \n",
      "\t\"ADDRESSLINE1\" TEXT, \n",
      "\t\"CITY\" TEXT, \n",
      "\t\"STATE\" TEXT, \n",
      "\t\"POSTALCODE\" TEXT, \n",
      "\t\"COUNTRY\" TEXT, \n",
      "\t\"CONTACTLASTNAME\" TEXT, \n",
      "\t\"CONTACTFIRSTNAME\" TEXT\n",
      ")\n",
      "\n",
      "\n",
      "2023-03-07 10:33:19,924 INFO sqlalchemy.engine.Engine [no key 0.00046s] ()\n",
      "2023-03-07 10:33:19,925 INFO sqlalchemy.engine.Engine CREATE INDEX ix_sales_index ON sales (\"index\")\n",
      "2023-03-07 10:33:19,926 INFO sqlalchemy.engine.Engine [no key 0.00040s] ()\n",
      "2023-03-07 10:33:19,927 INFO sqlalchemy.engine.Engine COMMIT\n",
      "2023-03-07 10:33:19,931 INFO sqlalchemy.engine.Engine BEGIN (implicit)\n",
      "2023-03-07 10:33:19,971 INFO sqlalchemy.engine.Engine INSERT INTO sales (\"index\", \"ORDERNUMBER\", \"QUANTITYORDERED\", \"PRICEEACH\", \"SALES\", \"ORDERDATE\", \"QTR_ID\", \"MONTH_ID\", \"YEAR_ID\", \"PRODUCTLINE\", \"PHONE\", \"ADDRESSLINE1\", \"CITY\", \"STATE\", \"POSTALCODE\", \"COUNTRY\", \"CONTACTLASTNAME\", \"CONTACTFIRSTNAME\") VALUES (?, ?, ?, ?, ?, ?, ?, ?, ?, ?, ?, ?, ?, ?, ?, ?, ?, ?)\n",
      "2023-03-07 10:33:19,971 INFO sqlalchemy.engine.Engine [generated in 0.03308s] [(0, 10107, 30, 95.7, 2871.0, '2/24/2003 0:00', 1, 2, 2003, 'Motorcycles', '2125557818', '897 Long Airport Avenue', 'NYC', 'NY', '10022', 'USA', 'Yu', 'Kwai'), (1, 10121, 34, 81.35, 2765.9, '5/7/2003 0:00', 2, 5, 2003, 'Motorcycles', '26.47.1555', \"59 rue de l'Abbaye\", 'Reims', None, '51100', 'France', 'Henriot', 'Paul'), (2, 10134, 41, 94.74, 3884.34, '7/1/2003 0:00', 3, 7, 2003, 'Motorcycles', '+33 1 46 62 7555', '27 rue du Colonel Pierre Avia', 'Paris', None, '75508', 'France', 'Da Cunha', 'Daniel'), (3, 10145, 45, 83.26, 3746.7, '8/25/2003 0:00', 3, 8, 2003, 'Motorcycles', '6265557265', '78934 Hillside Dr.', 'Pasadena', 'CA', '90003', 'USA', 'Young', 'Julie'), (4, 10159, 49, 100.0, 5205.27, '10/10/2003 0:00', 4, 10, 2003, 'Motorcycles', '6505551386', '7734 Strong St.', 'San Francisco', 'CA', None, 'USA', 'Brown', 'Julie'), (5, 10168, 36, 96.66, 3479.76, '10/28/2003 0:00', 4, 10, 2003, 'Motorcycles', '6505556809', '9408 Furth Circle', 'Burlingame', 'CA', '94217', 'USA', 'Hirano', 'Juri'), (6, 10180, 29, 86.13, 2497.77, '11/11/2003 0:00', 4, 11, 2003, 'Motorcycles', '20.16.1555', '184, chausse de Tournai', 'Lille', None, '59000', 'France', 'Rance', 'Martine'), (7, 10188, 48, 100.0, 5512.32, '11/18/2003 0:00', 4, 11, 2003, 'Motorcycles', '+47 2267 3215', 'Drammen 121, PR 744 Sentrum', 'Bergen', None, 'N 5804', 'Norway', 'Oeztan', 'Veysel')  ... displaying 10 of 2823 total bound parameter sets ...  (2821, 10397, 34, 62.24, 2116.16, '3/28/2005 0:00', 1, 3, 2005, 'Ships', '61.77.6555', '1 rue Alsace-Lorraine', 'Toulouse', None, '31000', 'France', 'Roulet', 'Annette'), (2822, 10414, 47, 65.52, 3079.44, '5/6/2005 0:00', 2, 5, 2005, 'Ships', '6175559555', '8616 Spinnaker Dr.', 'Boston', 'MA', '51003', 'USA', 'Yoshido', 'Juri')]\n",
      "2023-03-07 10:33:19,990 INFO sqlalchemy.engine.Engine COMMIT\n"
     ]
    }
   ],
   "source": [
    "# Add df to temporary database as sql table\n",
    "data = df.to_sql(name=\"sales\",con=temp_db)"
   ]
  },
  {
   "cell_type": "code",
   "execution_count": 29,
   "metadata": {},
   "outputs": [
    {
     "name": "stdout",
     "output_type": "stream",
     "text": [
      "2023-03-07 10:33:23,558 INFO sqlalchemy.engine.Engine BEGIN (implicit)\n",
      "2023-03-07 10:33:23,559 INFO sqlalchemy.engine.Engine SELECT sum(SALES) FROM sales\n",
      "2023-03-07 10:33:23,559 INFO sqlalchemy.engine.Engine [generated in 0.00182s] ()\n",
      "2023-03-07 10:33:23,561 INFO sqlalchemy.engine.Engine ROLLBACK\n"
     ]
    }
   ],
   "source": [
    "# Run an sql query with the connection to this sql database.\n",
    "with temp_db.connect() as conn:\n",
    "    result = conn.execute(text(\"SELECT sum(SALES) FROM sales\"))"
   ]
  },
  {
   "cell_type": "code",
   "execution_count": 30,
   "metadata": {},
   "outputs": [
    {
     "data": {
      "text/plain": [
       "[(10032628.85000001,)]"
      ]
     },
     "execution_count": 30,
     "metadata": {},
     "output_type": "execute_result"
    }
   ],
   "source": [
    "result.all()"
   ]
  },
  {
   "cell_type": "code",
   "execution_count": 31,
   "metadata": {},
   "outputs": [],
   "source": [
    "# Now, I need to create a prompt to deliver OpenAI the information about the table I have. I create a function for that.\n",
    "def create_table(df):\n",
    "    prompt = \"\"\"### sqlite SQL table, with its properties:\n",
    "    #\n",
    "    # Sales({})\n",
    "    #  \n",
    "    \"\"\".format(\",\".join(str(col) for col in df.columns))\n",
    "    return prompt"
   ]
  },
  {
   "cell_type": "code",
   "execution_count": 32,
   "metadata": {},
   "outputs": [
    {
     "name": "stdout",
     "output_type": "stream",
     "text": [
      "### sqlite SQL table, with its properties:\n",
      "    #\n",
      "    # Sales(ORDERNUMBER,QUANTITYORDERED,PRICEEACH,SALES,ORDERDATE,QTR_ID,MONTH_ID,YEAR_ID,PRODUCTLINE,PHONE,ADDRESSLINE1,CITY,STATE,POSTALCODE,COUNTRY,CONTACTLASTNAME,CONTACTFIRSTNAME)\n",
      "    #  \n",
      "    \n"
     ]
    }
   ],
   "source": [
    "print(create_table(df))"
   ]
  },
  {
   "cell_type": "code",
   "execution_count": 33,
   "metadata": {},
   "outputs": [],
   "source": [
    "# For a non-technical person, create a prompt input\n",
    "def prompt_input():\n",
    "    npl_text = input(\"Enter the info you want:\")\n",
    "    return npl_text"
   ]
  },
  {
   "cell_type": "code",
   "execution_count": 34,
   "metadata": {},
   "outputs": [
    {
     "data": {
      "text/plain": [
       "'Result of total sales per postalcode'"
      ]
     },
     "execution_count": 34,
     "metadata": {},
     "output_type": "execute_result"
    }
   ],
   "source": [
    "prompt_input()"
   ]
  },
  {
   "cell_type": "code",
   "execution_count": 35,
   "metadata": {},
   "outputs": [],
   "source": [
    "# Now, it is time to combine of them all\n",
    "def combine_prompts(df, query):\n",
    "    table_def = create_table(df)\n",
    "    query_string = f\"###A query to answer: {query}\\nSELECT\"\n",
    "    return table_def+query_string"
   ]
  },
  {
   "cell_type": "code",
   "execution_count": 36,
   "metadata": {},
   "outputs": [],
   "source": [
    "nlp_text = prompt_input()\n",
    "prompt = combine_prompts(df,nlp_text)\n",
    "# So in the end, this one will be send to GPT\n",
    "\n",
    "# Muhtemelen bu Davinci ile text completion yapilarak denenecek. Sonra aynisini ChatGPT ile cagiracagim."
   ]
  },
  {
   "cell_type": "code",
   "execution_count": 37,
   "metadata": {},
   "outputs": [
    {
     "name": "stdout",
     "output_type": "stream",
     "text": [
      "### sqlite SQL table, with its properties:\n",
      "    #\n",
      "    # Sales(ORDERNUMBER,QUANTITYORDERED,PRICEEACH,SALES,ORDERDATE,QTR_ID,MONTH_ID,YEAR_ID,PRODUCTLINE,PHONE,ADDRESSLINE1,CITY,STATE,POSTALCODE,COUNTRY,CONTACTLASTNAME,CONTACTFIRSTNAME)\n",
      "    #  \n",
      "    ###A query to answer: return the sum of sales per postalcode\n",
      "SELECT\n"
     ]
    }
   ],
   "source": [
    "print(prompt)"
   ]
  },
  {
   "cell_type": "code",
   "execution_count": 41,
   "metadata": {},
   "outputs": [],
   "source": [
    "# Time to do the API call\n",
    "response = openai.Completion.create(\n",
    "    model = \"code-davinci-002\",\n",
    "    prompt = combine_prompts(df, nlp_text),\n",
    "    temperature = 0,\n",
    "    max_tokens=150,\n",
    "    top_p = 1.0,\n",
    "    frequency_penalty = 0,\n",
    "    presence_penalty = 0,\n",
    "    stop = ['#',';']\n",
    ")"
   ]
  },
  {
   "cell_type": "code",
   "execution_count": 45,
   "metadata": {},
   "outputs": [
    {
     "data": {
      "text/plain": [
       "' POSTALCODE, SUM(SALES) FROM Sales GROUP BY POSTALCODE'"
      ]
     },
     "execution_count": 45,
     "metadata": {},
     "output_type": "execute_result"
    }
   ],
   "source": [
    "response['choices'][0]['text']"
   ]
  },
  {
   "cell_type": "code",
   "execution_count": 46,
   "metadata": {},
   "outputs": [],
   "source": [
    "# let's combine select with response now\n",
    "def handle_response(response):\n",
    "    query = response['choices'][0]['text']\n",
    "    if query.startswith(\" \"):\n",
    "        query = \"SELECT\"+query\n",
    "    return query"
   ]
  },
  {
   "cell_type": "code",
   "execution_count": 47,
   "metadata": {},
   "outputs": [
    {
     "data": {
      "text/plain": [
       "'SELECT POSTALCODE, SUM(SALES) FROM Sales GROUP BY POSTALCODE'"
      ]
     },
     "execution_count": 47,
     "metadata": {},
     "output_type": "execute_result"
    }
   ],
   "source": [
    "handle_response(response)"
   ]
  },
  {
   "cell_type": "code",
   "execution_count": 48,
   "metadata": {},
   "outputs": [
    {
     "name": "stdout",
     "output_type": "stream",
     "text": [
      "2023-03-07 11:14:53,087 INFO sqlalchemy.engine.Engine BEGIN (implicit)\n",
      "2023-03-07 11:14:53,089 INFO sqlalchemy.engine.Engine SELECT POSTALCODE, SUM(SALES) FROM Sales GROUP BY POSTALCODE\n",
      "2023-03-07 11:14:53,090 INFO sqlalchemy.engine.Engine [generated in 0.00258s] ()\n",
      "2023-03-07 11:14:53,092 INFO sqlalchemy.engine.Engine ROLLBACK\n"
     ]
    }
   ],
   "source": [
    "# Run the generated SQL code.\n",
    "with temp_db.connect() as conn:\n",
    "    result = conn.execute(text(handle_response(response)))"
   ]
  },
  {
   "cell_type": "code",
   "execution_count": 49,
   "metadata": {},
   "outputs": [
    {
     "data": {
      "text/plain": [
       "[(None, 272407.14),\n",
       " ('10022', 560787.7699999998),\n",
       " ('10100', 94117.26000000002),\n",
       " ('106-0032', 120562.73999999996),\n",
       " ('1203', 117713.55999999998),\n",
       " ('1227 MM', 94015.73),\n",
       " ('13008', 74936.14),\n",
       " ('1734', 145041.6),\n",
       " ('2', 57756.43),\n",
       " ('2060', 153996.13000000003),\n",
       " ('2067', 151570.98000000004),\n",
       " ('21240', 111250.37999999996),\n",
       " ('24067', 85555.98999999998),\n",
       " ('24100', 137955.72000000003),\n",
       " ('28023', 170257.33000000005),\n",
       " ('28034', 912294.1100000002),\n",
       " ('3004', 200995.40999999997),\n",
       " ('31000', 70488.44),\n",
       " ('3150', 64591.46000000001),\n",
       " ('4101', 59469.11999999999),\n",
       " ('4110', 116599.19),\n",
       " ('41101', 54723.62),\n",
       " ('42100', 142601.33000000002),\n",
       " ('44000', 204304.86),\n",
       " ('5020', 149798.63),\n",
       " ('50553', 207874.86),\n",
       " ('50739', 100306.58),\n",
       " ('51003', 154069.65999999997),\n",
       " ('51100', 135042.94),\n",
       " ('51247', 139243.99999999994),\n",
       " ('530-0003', 67605.07),\n",
       " ('58339', 165255.20000000004),\n",
       " ('59000', 69052.41),\n",
       " ('60528', 85171.58999999998),\n",
       " ('62005', 131685.30000000002),\n",
       " ('67000', 80438.48),\n",
       " ('69004', 142874.25000000003),\n",
       " ('69045', 115498.73000000001),\n",
       " ('70267', 122138.14000000001),\n",
       " ('71270', 151189.12999999998),\n",
       " ('75012', 97203.68000000001),\n",
       " ('75016', 93170.65999999999),\n",
       " ('75508', 78570.34000000001),\n",
       " ('78000', 64834.32000000001),\n",
       " ('79903', 172989.68000000008),\n",
       " ('8010', 52263.899999999994),\n",
       " ('8022', 78411.86000000002),\n",
       " ('80686', 34993.92),\n",
       " ('8200', 100595.54999999999),\n",
       " ('83030', 82751.08000000002),\n",
       " ('90003', 104561.95999999998),\n",
       " ('90110', 104370.38),\n",
       " ('91217', 87489.22999999998),\n",
       " ('92561', 9129.349999999999),\n",
       " ('94019', 129312.82999999999),\n",
       " ('94217', 331011.8500000001),\n",
       " ('97561', 57294.420000000006),\n",
       " ('97562', 756752.8500000003),\n",
       " ('97823', 79472.07),\n",
       " ('B-1180', 74972.52),\n",
       " ('B-6000', 33440.1),\n",
       " ('EC2 5NT', 157807.80999999997),\n",
       " ('FIN-02271', 113961.14999999997),\n",
       " ('H1J 1C3', 74204.79),\n",
       " ('N 0106', 79224.23),\n",
       " ('N 5804', 111640.28),\n",
       " ('PO31 7PJ', 78240.83999999998),\n",
       " ('S-844 67', 134259.33000000002),\n",
       " ('S-958 22', 75754.88),\n",
       " ('T2F 8M4', 74634.84999999999),\n",
       " ('V3F 2K1', 75238.92),\n",
       " ('WA1 1DP', 36019.04),\n",
       " ('WX1 6LT', 118008.26999999999),\n",
       " ('WX3 6FW', 88804.5)]"
      ]
     },
     "execution_count": 49,
     "metadata": {},
     "output_type": "execute_result"
    }
   ],
   "source": [
    "result.all()"
   ]
  },
  {
   "cell_type": "code",
   "execution_count": 51,
   "metadata": {},
   "outputs": [
    {
     "data": {
      "text/plain": [
       "<OpenAIObject chat.completion id=chatcmpl-6rPM1kgJWrutQEnqME9qj1m2fOcHr at 0x1195a0410> JSON: {\n",
       "  \"choices\": [\n",
       "    {\n",
       "      \"finish_reason\": \"stop\",\n",
       "      \"index\": 0,\n",
       "      \"message\": {\n",
       "        \"content\": \"The 2020 World Series was played at Globe Life Field in Arlington, Texas, which is the home ballpark of the Texas Rangers.\",\n",
       "        \"role\": \"assistant\"\n",
       "      }\n",
       "    }\n",
       "  ],\n",
       "  \"created\": 1678186865,\n",
       "  \"id\": \"chatcmpl-6rPM1kgJWrutQEnqME9qj1m2fOcHr\",\n",
       "  \"model\": \"gpt-3.5-turbo-0301\",\n",
       "  \"object\": \"chat.completion\",\n",
       "  \"usage\": {\n",
       "    \"completion_tokens\": 29,\n",
       "    \"prompt_tokens\": 56,\n",
       "    \"total_tokens\": 85\n",
       "  }\n",
       "}"
      ]
     },
     "execution_count": 51,
     "metadata": {},
     "output_type": "execute_result"
    }
   ],
   "source": [
    "# Note: you need to be using OpenAI Python v0.27.0 for the code below to work\n",
    "openai.ChatCompletion.create(\n",
    "  model=\"gpt-3.5-turbo\",\n",
    "  messages=[\n",
    "        {\"role\": \"system\", \"content\": \"You are a helpful assistant.\"},\n",
    "        {\"role\": \"user\", \"content\": \"Who won the world series in 2020?\"},\n",
    "        {\"role\": \"assistant\", \"content\": \"The Los Angeles Dodgers won the World Series in 2020.\"},\n",
    "        {\"role\": \"user\", \"content\": \"Where was it played?\"}\n",
    "    ]\n",
    ")"
   ]
  },
  {
   "cell_type": "code",
   "execution_count": 52,
   "metadata": {},
   "outputs": [
    {
     "data": {
      "text/plain": [
       "<OpenAIObject chat.completion id=chatcmpl-6rPNJmm3qnAWHXg6rMFhyPbweajx5 at 0x11942bd10> JSON: {\n",
       "  \"choices\": [\n",
       "    {\n",
       "      \"finish_reason\": \"stop\",\n",
       "      \"index\": 0,\n",
       "      \"message\": {\n",
       "        \"content\": \"\\n\\nSELECT postalcode, SUM(amount) AS total_sales\\nFROM Sales\\nGROUP BY postalcode;\",\n",
       "        \"role\": \"assistant\"\n",
       "      }\n",
       "    }\n",
       "  ],\n",
       "  \"created\": 1678186945,\n",
       "  \"id\": \"chatcmpl-6rPNJmm3qnAWHXg6rMFhyPbweajx5\",\n",
       "  \"model\": \"gpt-3.5-turbo-0301\",\n",
       "  \"object\": \"chat.completion\",\n",
       "  \"usage\": {\n",
       "    \"completion_tokens\": 21,\n",
       "    \"prompt_tokens\": 45,\n",
       "    \"total_tokens\": 66\n",
       "  }\n",
       "}"
      ]
     },
     "execution_count": 52,
     "metadata": {},
     "output_type": "execute_result"
    }
   ],
   "source": [
    "# Let's try that with gpt-3.5 chat model API\n",
    "\n",
    "openai.ChatCompletion.create(\n",
    "    model = \"gpt-3.5-turbo\",\n",
    "    messages =[{\"role\":\"user\",\"content\":\"I have a database table named as Sales and it contains sale id, amount and postalcode as columns. Write a sql code that calcualtes the total sum of sales per postalcode.\"}],\n",
    "    max_tokens=150\n",
    ")"
   ]
  },
  {
   "cell_type": "code",
   "execution_count": null,
   "metadata": {},
   "outputs": [],
   "source": []
  }
 ],
 "metadata": {
  "interpreter": {
   "hash": "1d4e298bcd666cea5634d864daa6b84a8070fd9981a6ce62f6b9d1dd5b6995d5"
  },
  "kernelspec": {
   "display_name": "Python 3.11.2 ('openai')",
   "language": "python",
   "name": "python3"
  },
  "language_info": {
   "codemirror_mode": {
    "name": "ipython",
    "version": 3
   },
   "file_extension": ".py",
   "mimetype": "text/x-python",
   "name": "python",
   "nbconvert_exporter": "python",
   "pygments_lexer": "ipython3",
   "version": "3.11.2"
  },
  "orig_nbformat": 4
 },
 "nbformat": 4,
 "nbformat_minor": 2
}
